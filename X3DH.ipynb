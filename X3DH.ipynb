{
 "cells": [
  {
   "cell_type": "code",
   "execution_count": 5,
   "metadata": {},
   "outputs": [],
   "source": [
    "from cryptography.hazmat.backends import default_backend\n",
    "from cryptography.hazmat.primitives import hashes\n",
    "from cryptography.hazmat.primitives.asymmetric import dh, padding, rsa, utils\n",
    "from cryptography.hazmat.primitives.kdf.hkdf import HKDF\n",
    "import hashlib\n",
    "\n",
    "parameters = dh.generate_parameters(generator=2, key_size=512, backend=default_backend())"
   ]
  },
  {
   "cell_type": "code",
   "execution_count": 6,
   "metadata": {},
   "outputs": [],
   "source": [
    "class User: \n",
    "    def __init__(self, name): \n",
    "        self.name = name\n",
    "        \n",
    "        self.identity = parameters.generate_private_key()\n",
    "        self.identity_public_key = self.identity.public_key()\n",
    "\n",
    "        self.Ephemeral = parameters.generate_private_key()\n",
    "        self.Ephemeral_public_key = self.Ephemeral.public_key()\n",
    "\n",
    "        # Need a way to generate this\n",
    "        self.Signed_prekey = parameters.generate_private_key()\n",
    "        self.Signed_prekey_public_key = self.Signed_prekey.public_key()\n",
    "\n",
    "        self.One_time_prekey = parameters.generate_private_key()\n",
    "        self.One_time_prekey_public_key = self.One_time_prekey.public_key()\n",
    "    \n",
    "        # Need a way to generate this \n",
    "        self.Signature = parameters.generate_private_key()\n",
    "        self.Signature_public_key = self.Signature.public_key()\n",
    "\n",
    "class server_user: \n",
    "    def __init__(self, name, identity, signed_prekey, onetime_prekey, signature):\n",
    "        self.name = name\n",
    "        self.identity_public_key = identity\n",
    "        self.Signed_prekey_public_key = signed_prekey\n",
    "        self.One_time_prekey_public_key = onetime_prekey\n",
    "        self.Signature_public_key = signature\n",
    "\n",
    "class initial_message: \n",
    "    def  __init__(self, name, identity, ephemeral):\n",
    "        self.name = name\n",
    "        self.identity_public_key = identity\n",
    "        self.Ephemeral_public_key = ephemeral \n",
    "\n"
   ]
  },
  {
   "cell_type": "code",
   "execution_count": 7,
   "metadata": {},
   "outputs": [],
   "source": [
    "Alice = User(\"Alice\")\n",
    "Bob = User(\"Bob\")\n",
    "\n",
    "Server = {}\n",
    "\n",
    "def pushToServer(user):\n",
    "    Server[user.name] = server_user(user.name, user.identity, user.Signed_prekey_public_key, user.One_time_prekey_public_key, user.Signature_public_key)\n",
    "\n",
    "pushToServer(Alice)\n",
    "pushToServer(Bob)\n",
    "\n",
    "def initialMessage(user): \n",
    "    return initial_message(user.name, user.identity_public_key, user.Ephemeral_public_key)\n",
    "\n",
    "# Bob_Server = server_user(\"Bob\", Bob.identity_public_key, Bob.Signed_prekey_public_key, Bob.One_time_prekey_public_key, Bob.Signature_public_key)\n",
    "# Alice_Server = server_user(\"Alice\", Alice.identity_public_key, Alice.Signed_prekey_public_key, Alice.One_time_prekey_public_key, Alice.Signature_public_key)"
   ]
  },
  {
   "cell_type": "code",
   "execution_count": 8,
   "metadata": {},
   "outputs": [],
   "source": [
    "def getDerivedKey1(User1, User2): \n",
    "    DH1 = User1.identity.exchange(User2.Signed_prekey_public_key)\n",
    "    DH2 = User1.Ephemeral.exchange(User2.identity_public_key)\n",
    "    DH3 = User1.Ephemeral.exchange(User2.Signed_prekey_public_key)\n",
    "    DH4 = User1.Ephemeral.exchange(User2.One_time_prekey_public_key)\n",
    "    derived_key = HKDF(algorithm=hashes.SHA256(), length=32, salt=None, info=b'handshake data',).derive(DH1 + DH2 + DH3 + DH4)\n",
    "    return derived_key\n",
    "\n",
    "\n",
    "def getDerivedKey2(User1, User2): \n",
    "    DH1 = User2.Signed_prekey.exchange(User1.identity_public_key)\n",
    "    DH2 = User2.identity.exchange(User1.Ephemeral_public_key)\n",
    "    DH3 = User2.Signed_prekey.exchange(User1.Ephemeral_public_key)\n",
    "    DH4 = User2.One_time_prekey.exchange(User1.Ephemeral_public_key)\n",
    "    derived_key = HKDF(algorithm=hashes.SHA256(), length=32, salt=None, info=b'handshake data',).derive(DH1 + DH2 + DH3 + DH4)\n",
    "    return derived_key"
   ]
  },
  {
   "cell_type": "code",
   "execution_count": 9,
   "metadata": {},
   "outputs": [],
   "source": [
    "sk = getDerivedKey1(Alice, Server[Bob.name])"
   ]
  },
  {
   "cell_type": "code",
   "execution_count": 10,
   "metadata": {},
   "outputs": [],
   "source": [
    "sk = getDerivedKey2(initialMessage(Alice), Bob)"
   ]
  },
  {
   "attachments": {},
   "cell_type": "markdown",
   "metadata": {},
   "source": [
    "# Symmetric Ratchet"
   ]
  },
  {
   "cell_type": "code",
   "execution_count": 11,
   "metadata": {},
   "outputs": [],
   "source": [
    "class SymmRatchet(object):\n",
    "    def __init__(self, key):\n",
    "        self.state = key\n",
    "\n",
    "    def next(self, inp=b''):\n",
    "        # turn the ratchet, changing the state and yielding a new key and IV\n",
    "        output = HKDF(algorithm=hashes.SHA256(), length=80, salt=b'',\n",
    "                          info=b'', backend= default_backend() \n",
    "                         ).derive(self.state + inp) \n",
    "        self.state = output[:32]\n",
    "        outkey, iv = output[32:64], output[64:]\n",
    "        return outkey, iv\n",
    "    \n",
    "class rachet_user_send: \n",
    "    def __init__(self, sk):\n",
    "        self.sk = sk\n",
    "\n",
    "    def init_ratchets(self):\n",
    "        # initialise the root chain with the shared key\n",
    "        self.root_ratchet = SymmRatchet(self.sk)\n",
    "        # initialise the sending and recving chains\n",
    "        self.recv_ratchet = SymmRatchet(self.root_ratchet.next()[0])\n",
    "        self.send_ratchet = SymmRatchet(self.root_ratchet.next()[0])\n",
    "\n",
    "    \n",
    "class rachet_user_recv: \n",
    "    def __init__(self, sk):\n",
    "        self.sk = sk\n",
    "\n",
    "    def init_ratchets(self):\n",
    "        # initialise the root chain with the shared key\n",
    "        self.root_ratchet = SymmRatchet(self.sk)\n",
    "        # initialise the sending and recving chains\n",
    "        self.send_ratchet = SymmRatchet(self.root_ratchet.next()[0])\n",
    "        self.recv_ratchet = SymmRatchet(self.root_ratchet.next()[0])\n"
   ]
  },
  {
   "cell_type": "code",
   "execution_count": 12,
   "metadata": {},
   "outputs": [],
   "source": [
    "import base64\n",
    "\n",
    "def b64(msg):\n",
    "    # base64 encoding helper function\n",
    "    return base64.encodebytes(msg).decode('utf-8').strip()\n",
    "\n",
    "bob = rachet_user_recv(sk)\n",
    "alice = rachet_user_send(sk)\n"
   ]
  },
  {
   "cell_type": "code",
   "execution_count": 13,
   "metadata": {},
   "outputs": [],
   "source": [
    "bob.init_ratchets()\n",
    "alice.init_ratchets()\n"
   ]
  },
  {
   "cell_type": "code",
   "execution_count": 14,
   "metadata": {},
   "outputs": [
    {
     "name": "stdout",
     "output_type": "stream",
     "text": [
      "[Alice]\tsend ratchet: ['mFKo9ude+E67/SR2WOrl5A2Q+gb9mnmEb7hPvKxKHdY=', 'QybdV4zZomcky3ly6+a/JQ==']\n",
      "[Bob]\trecv ratchet: ['mFKo9ude+E67/SR2WOrl5A2Q+gb9mnmEb7hPvKxKHdY=', 'QybdV4zZomcky3ly6+a/JQ==']\n",
      "[Alice]\trecv ratchet: ['//xr2Xe29zT1DcTKCpcIQcBvAAZepl5fvnLy0n9oO8g=', 'yRqW/C6aFSmyFopTaJJEuw==']\n",
      "[Bob]\tsend ratchet: ['//xr2Xe29zT1DcTKCpcIQcBvAAZepl5fvnLy0n9oO8g=', 'yRqW/C6aFSmyFopTaJJEuw==']\n"
     ]
    }
   ],
   "source": [
    "print('[Alice]\\tsend ratchet:', list(map(b64, alice.send_ratchet.next())))\n",
    "print('[Bob]\\trecv ratchet:', list(map(b64, bob.recv_ratchet.next())))\n",
    "print('[Alice]\\trecv ratchet:', list(map(b64, alice.recv_ratchet.next())))\n",
    "print('[Bob]\\tsend ratchet:', list(map(b64, bob.send_ratchet.next())))"
   ]
  },
  {
   "cell_type": "code",
   "execution_count": 56,
   "metadata": {},
   "outputs": [],
   "source": [
    "# import AES\n",
    "from Crypto.Cipher import AES\n",
    "\n",
    "def pad(msg):\n",
    "    # pkcs7 padding\n",
    "    num = 16 - (len(msg) % 16)\n",
    "    return msg + bytes([num] * num)\n",
    "\n",
    "def unpad(msg):\n",
    "    # remove pkcs7 padding\n",
    "    return msg[:-msg[-1]]"
   ]
  },
  {
   "cell_type": "code",
   "execution_count": 57,
   "metadata": {},
   "outputs": [],
   "source": [
    "class SymmRatchet(object):\n",
    "    def __init__(self, key):\n",
    "        self.state = key\n",
    "\n",
    "    def next(self, inp=b''):\n",
    "        # turn the ratchet, changing the state and yielding a new key and IV\n",
    "        output = HKDF(algorithm=hashes.SHA256(), length=80, salt=b'',\n",
    "                          info=b'', backend= default_backend() \n",
    "                         ).derive(self.state + inp) \n",
    "        self.state = output[:32]\n",
    "        outkey, iv = output[32:64], output[64:]\n",
    "        return outkey, iv\n",
    "    \n",
    "class rachet_user_send: \n",
    "    def __init__(self, sk):\n",
    "        self.sk = sk\n",
    "        self.DHratchet = None\n",
    "\n",
    "    def init_ratchets(self):\n",
    "        # initialise the root chain with the shared key\n",
    "        self.root_ratchet = SymmRatchet(self.sk)\n",
    "        # initialise the sending and recving chains\n",
    "        self.recv_ratchet = SymmRatchet(self.root_ratchet.next()[0])\n",
    "        self.send_ratchet = SymmRatchet(self.root_ratchet.next()[0])\n",
    "\n",
    "    def dh_ratchet(self, bob_public):\n",
    "    # perform a DH ratchet rotation using Bob's public key\n",
    "        if self.DHratchet is not None:\n",
    "            # the first time we don't have a DH ratchet yet\n",
    "            dh_recv = self.DHratchet.exchange(bob_public)\n",
    "            shared_recv = self.root_ratchet.next(dh_recv)[0]\n",
    "            # use Bob's public and our old private key\n",
    "            # to get a new recv ratchet\n",
    "            self.recv_ratchet = SymmRatchet(shared_recv)\n",
    "            print('[Alice]\\tRecv ratchet seed:', b64(shared_recv))\n",
    "        # generate a new key pair and send ratchet\n",
    "        # our new public key will be sent with the next message to Bob\n",
    "        self.DHratchet = parameters.generate_private_key()\n",
    "        dh_send = self.DHratchet.exchange(bob_public)\n",
    "        shared_send = self.root_ratchet.next(dh_send)[0]\n",
    "        self.send_ratchet = SymmRatchet(shared_send)\n",
    "        print('[Alice]\\tSend ratchet seed:', b64(shared_send))\n",
    "\n",
    "\n",
    "    def send(self, bob, msg):\n",
    "        key, iv = self.send_ratchet.next()\n",
    "        cipher = AES.new(key, AES.MODE_CBC, iv).encrypt(pad(msg))\n",
    "        print('[Alice]\\tSending ciphertext to Bob:', b64(cipher))\n",
    "        # send ciphertext and current DH public key\n",
    "        bob.recv(cipher, self.DHratchet.public_key())\n",
    "\n",
    "    def recv(self, cipher, bob_public_key):\n",
    "        # receive Bob's new public key and use it to perform a DH\n",
    "        self.dh_ratchet(bob_public_key)\n",
    "        key, iv = self.recv_ratchet.next()\n",
    "        # decrypt the message using the new recv ratchet\n",
    "        msg = unpad(AES.new(key, AES.MODE_CBC, iv).decrypt(cipher))\n",
    "        print('[Alice]\\tDecrypted message:', msg)\n",
    "\n",
    "\n",
    "    \n",
    "class rachet_user_recv: \n",
    "    def __init__(self, sk):\n",
    "        self.sk = sk\n",
    "        self.DHratchet = parameters.generate_private_key()\n",
    "\n",
    "    def init_ratchets(self):\n",
    "        # initialise the root chain with the shared key\n",
    "        self.root_ratchet = SymmRatchet(self.sk)\n",
    "        # initialise the sending and recving chains\n",
    "        self.send_ratchet = SymmRatchet(self.root_ratchet.next()[0])\n",
    "        self.recv_ratchet = SymmRatchet(self.root_ratchet.next()[0])\n",
    "    \n",
    "    def dh_ratchet(self, alice_public): \n",
    "        dh_recv = self.DHratchet.exchange(alice_public)\n",
    "        shared_recv = self.root_ratchet.next(dh_recv)[0]\n",
    "        self.recv_ratchet = SymmRatchet(shared_recv)\n",
    "        print('[Bob]\\tRecv ratchet seed:', b64(shared_recv))\n",
    "        # generate a new key pair and send ratchet\n",
    "        # our new public key will be sent with the next message to Alice\n",
    "        self.DHratchet = parameters.generate_private_key()\n",
    "        dh_send = self.DHratchet.exchange(alice_public)\n",
    "        shared_send = self.root_ratchet.next(dh_send)[0]\n",
    "        self.send_ratchet = SymmRatchet(shared_send)\n",
    "        print('[Bob]\\tSend ratchet seed:', b64(shared_send))\n",
    "\n",
    "    def send(self, alice, msg):\n",
    "        key, iv = self.send_ratchet.next()\n",
    "        cipher = AES.new(key, AES.MODE_CBC, iv).encrypt(pad(msg))\n",
    "        print('[Bob]\\tSending ciphertext to Alice:', b64(cipher))\n",
    "        # send ciphertext and current DH public key\n",
    "        alice.recv(cipher, self.DHratchet.public_key())\n",
    "\n",
    "    def recv(self, cipher, alice_public_key):\n",
    "        # receive Alice's new public key and use it to perform a DH\n",
    "        self.dh_ratchet(alice_public_key)\n",
    "        key, iv = self.recv_ratchet.next()\n",
    "        # decrypt the message using the new recv ratchet\n",
    "        msg = unpad(AES.new(key, AES.MODE_CBC, iv).decrypt(cipher))\n",
    "        print('[Bob]\\tDecrypted message:', msg)\n",
    "\n"
   ]
  },
  {
   "attachments": {},
   "cell_type": "markdown",
   "metadata": {},
   "source": [
    "# Diffie Hellman Ratchet"
   ]
  },
  {
   "cell_type": "code",
   "execution_count": 75,
   "metadata": {},
   "outputs": [],
   "source": [
    "Al = rachet_user_send(sk)\n",
    "Bb = rachet_user_recv(sk)\n",
    "\n",
    "Al.init_ratchets()\n",
    "Bb.init_ratchets()"
   ]
  },
  {
   "cell_type": "code",
   "execution_count": 76,
   "metadata": {},
   "outputs": [
    {
     "name": "stdout",
     "output_type": "stream",
     "text": [
      "[Alice]\tSend ratchet seed: nweWZxcbLY9/fk0MugS2VAmVkByy+rI/kzIa+KHxjUE=\n"
     ]
    }
   ],
   "source": [
    "Al.dh_ratchet(Bb.DHratchet.public_key())"
   ]
  },
  {
   "cell_type": "code",
   "execution_count": 77,
   "metadata": {},
   "outputs": [
    {
     "name": "stdout",
     "output_type": "stream",
     "text": [
      "[Alice]\tSending ciphertext to Bob: ZW6IPxmbmohzu8EytbBL1Q==\n",
      "[Bob]\tRecv ratchet seed: nweWZxcbLY9/fk0MugS2VAmVkByy+rI/kzIa+KHxjUE=\n",
      "[Bob]\tSend ratchet seed: uNSSyeZXcLv2yyz2G835Faq0pbfXiRG2Yxr1YbBxq28=\n",
      "[Bob]\tDecrypted message: b'Hello Bob!'\n",
      "[Bob]\tSending ciphertext to Alice: bYTz42g1ULvW3sRPJwKtyA==\n",
      "[Alice]\tRecv ratchet seed: uNSSyeZXcLv2yyz2G835Faq0pbfXiRG2Yxr1YbBxq28=\n",
      "[Alice]\tSend ratchet seed: 0yN3zljFY8XLLOBCOjQvjt3PAU3AY+FbySxqaPjfms0=\n",
      "[Alice]\tDecrypted message: b'Hello Alice!'\n",
      "[Alice]\tSending ciphertext to Bob: vmAYXR+xtwinfP9JEMXCsw==\n",
      "[Bob]\tRecv ratchet seed: 0yN3zljFY8XLLOBCOjQvjt3PAU3AY+FbySxqaPjfms0=\n",
      "[Bob]\tSend ratchet seed: 01NVCwuec0TSbDtF6Xyb/BzMO1azc7pK1uW3fQEq7XM=\n",
      "[Bob]\tDecrypted message: b'How are you?'\n"
     ]
    }
   ],
   "source": [
    "Al.send(Bb, b'Hello Bob!')\n",
    "Bb.send(Al, b'Hello Alice!')\n",
    "Al.send(Bb, b'How are you?')\n"
   ]
  },
  {
   "cell_type": "code",
   "execution_count": 71,
   "metadata": {},
   "outputs": [
    {
     "name": "stdout",
     "output_type": "stream",
     "text": [
      "[Bob]\tSending ciphertext to Alice: Fv0HepITAHW1GOR5w67H1A==\n",
      "[Alice]\tRecv ratchet seed: +keFoW16o0MTpgv/m96Adx1Ai2u/6hT24Rq5YuOoz2E=\n",
      "[Alice]\tSend ratchet seed: /9vRHce8GF+tsNw/pRB2Uj9E674rzgpZJ9Ft26TJJLQ=\n",
      "[Alice]\tDecrypted message: b''\n"
     ]
    }
   ],
   "source": []
  }
 ],
 "metadata": {
  "kernelspec": {
   "display_name": "Python 3",
   "language": "python",
   "name": "python3"
  },
  "language_info": {
   "codemirror_mode": {
    "name": "ipython",
    "version": 3
   },
   "file_extension": ".py",
   "mimetype": "text/x-python",
   "name": "python",
   "nbconvert_exporter": "python",
   "pygments_lexer": "ipython3",
   "version": "3.10.11"
  },
  "orig_nbformat": 4
 },
 "nbformat": 4,
 "nbformat_minor": 2
}
